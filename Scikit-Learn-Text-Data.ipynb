{
 "cells": [
  {
   "cell_type": "code",
   "execution_count": 1,
   "metadata": {
    "collapsed": true
   },
   "outputs": [],
   "source": [
    "# Setup\n",
    "import random\n",
    "import numpy as np\n",
    "import matplotlib.pyplot as plt\n",
    "%matplotlib inline\n",
    "plt.rcParams['figure.figsize'] = (10.0, 8.0) # set default size of plots\n",
    "plt.rcParams['image.interpolation'] = 'nearest'\n",
    "plt.rcParams['image.cmap'] = 'gray'\n",
    "\n",
    "# for auto-reloading extenrnal modules\n",
    "# see http://stackoverflow.com/questions/1907993/autoreload-of-modules-in-ipython\n",
    "%load_ext autoreload\n",
    "%autoreload 2"
   ]
  },
  {
   "cell_type": "markdown",
   "metadata": {},
   "source": [
    "# Use scikit-learn to Experiment with 20newsgroups data"
   ]
  },
  {
   "cell_type": "code",
   "execution_count": 2,
   "metadata": {
    "collapsed": true
   },
   "outputs": [],
   "source": [
    "categories = ['alt.atheism', 'soc.religion.christian',\n",
    "              'comp.graphics', 'sci.med']"
   ]
  },
  {
   "cell_type": "code",
   "execution_count": 3,
   "metadata": {
    "collapsed": true
   },
   "outputs": [],
   "source": [
    "# Load the data\n",
    "from sklearn.datasets import fetch_20newsgroups\n",
    "twenty_train = fetch_20newsgroups(subset='train',\n",
    "    categories=categories, shuffle=True, random_state=42)"
   ]
  },
  {
   "cell_type": "code",
   "execution_count": 4,
   "metadata": {
    "collapsed": false
   },
   "outputs": [
    {
     "name": "stdout",
     "output_type": "stream",
     "text": [
      "['description', 'DESCR', 'filenames', 'target_names', 'data', 'target']\n",
      "[1 1 3 ..., 2 2 2]\n",
      "2257\n"
     ]
    }
   ],
   "source": [
    "print twenty_train.keys()\n",
    "print twenty_train.target #.shape\n",
    "print len(twenty_train.data)"
   ]
  },
  {
   "cell_type": "code",
   "execution_count": 5,
   "metadata": {
    "collapsed": false
   },
   "outputs": [
    {
     "name": "stdout",
     "output_type": "stream",
     "text": [
      "['alt.atheism', 'comp.graphics', 'sci.med', 'soc.religion.christian']\n",
      "From: sd345@city.ac.uk (Michael Collier)\n",
      "Subject: Converting images to HP LaserJet III?\n",
      "Nntp-Posting-Host: hampton\n",
      "Organization: The City University\n",
      "Lines: 14\n",
      "\n",
      "Does anyone know of a good way (standard PC application/PD utility) to\n",
      "convert tif/img/tga files into LaserJet III format.  We would also like to\n",
      "do the same, converting to HPGL (HP plotter) files.\n",
      "\n",
      "Please email any response.\n",
      "\n",
      "Is this the correct group?\n",
      "\n",
      "Thanks in advance.  Michael.\n",
      "-- \n",
      "Michael Collier (Programmer)                 The Computer Unit,\n",
      "Email: M.P.Collier@uk.ac.city                The City University,\n",
      "Tel: 071 477-8000 x3769                      London,\n",
      "Fax: 071 477-8565                            EC1V 0HB.\n",
      "\n"
     ]
    }
   ],
   "source": [
    "print twenty_train.target_names\n",
    "print twenty_train.data[0]"
   ]
  },
  {
   "cell_type": "code",
   "execution_count": 6,
   "metadata": {
    "collapsed": false
   },
   "outputs": [
    {
     "name": "stdout",
     "output_type": "stream",
     "text": [
      "0.735000133514\n"
     ]
    },
    {
     "data": {
      "text/plain": [
       "(2257, 35788)"
      ]
     },
     "execution_count": 6,
     "metadata": {},
     "output_type": "execute_result"
    }
   ],
   "source": [
    "# Extract 'count' feature based on 'bag-of-words' format\n",
    "from sklearn.feature_extraction.text import CountVectorizer\n",
    "import time\n",
    "tic = time.time()\n",
    "count_vect = CountVectorizer()\n",
    "X_train_counts = count_vect.fit_transform(twenty_train.data)\n",
    "print time.time() - tic\n",
    "X_train_counts.shape"
   ]
  },
  {
   "cell_type": "code",
   "execution_count": 7,
   "metadata": {
    "collapsed": false
   },
   "outputs": [
    {
     "data": {
      "text/plain": [
       "(2257, 35788)"
      ]
     },
     "execution_count": 7,
     "metadata": {},
     "output_type": "execute_result"
    }
   ],
   "source": [
    "# Compute 'tf', 'tf-idf'feature from 'count' feature.\n",
    "# Usually, we choose 'tf-idf' as the trained feature\n",
    "from sklearn.feature_extraction.text import TfidfTransformer\n",
    "tf_transformer = TfidfTransformer(use_idf=False).fit(X_train_counts)\n",
    "X_train_tf = tf_transformer.transform(X_train_counts)\n",
    "X_train_tf.shape\n",
    "\n",
    "tfidf_transformer = TfidfTransformer()\n",
    "X_train_tfidf = tfidf_transformer.fit_transform(X_train_counts)\n",
    "X_train_tfidf.shape"
   ]
  },
  {
   "cell_type": "code",
   "execution_count": 8,
   "metadata": {
    "collapsed": true
   },
   "outputs": [],
   "source": [
    "# Train a classifier\n",
    "from sklearn.naive_bayes import MultinomialNB\n",
    "clf = MultinomialNB().fit(X_train_tfidf, twenty_train.target)"
   ]
  },
  {
   "cell_type": "code",
   "execution_count": 9,
   "metadata": {
    "collapsed": false
   },
   "outputs": [
    {
     "name": "stdout",
     "output_type": "stream",
     "text": [
      "'God is love' => soc.religion.christian\n",
      "'OpenGL on the GPU is fast' => comp.graphics\n"
     ]
    }
   ],
   "source": [
    "# Predict new variable\n",
    "docs_new = ['God is love', 'OpenGL on the GPU is fast']\n",
    "X_new_counts = count_vect.transform(docs_new)\n",
    "X_new_tfidf = tfidf_transformer.transform(X_new_counts)\n",
    "\n",
    "predicted = clf.predict(X_new_tfidf)\n",
    "\n",
    "for doc, category in zip(docs_new, predicted):\n",
    "    print('%r => %s' % (doc, twenty_train.target_names[category]))"
   ]
  },
  {
   "cell_type": "code",
   "execution_count": 10,
   "metadata": {
    "collapsed": true
   },
   "outputs": [],
   "source": [
    "# Build a pipeline to integrate all above steps\n",
    "from sklearn.pipeline import Pipeline\n",
    "text_clf = Pipeline([('vect', CountVectorizer()),\n",
    "                     ('tfidf', TfidfTransformer()),\n",
    "                     ('clf', MultinomialNB()),\n",
    "])"
   ]
  },
  {
   "cell_type": "code",
   "execution_count": 11,
   "metadata": {
    "collapsed": true
   },
   "outputs": [],
   "source": [
    "# Predict pipeline\n",
    "text_clf = text_clf.fit(twenty_train.data, twenty_train.target)"
   ]
  },
  {
   "cell_type": "code",
   "execution_count": 12,
   "metadata": {
    "collapsed": false
   },
   "outputs": [
    {
     "data": {
      "text/plain": [
       "0.83488681757656458"
      ]
     },
     "execution_count": 12,
     "metadata": {},
     "output_type": "execute_result"
    }
   ],
   "source": [
    "# Evaluation the performance on the test set\n",
    "import numpy as np\n",
    "twenty_test = fetch_20newsgroups(subset='test',\n",
    "    categories=categories, shuffle=True, random_state=42)\n",
    "docs_test = twenty_test.data\n",
    "predicted = text_clf.predict(docs_test)\n",
    "np.mean(predicted == twenty_test.target)  "
   ]
  },
  {
   "cell_type": "code",
   "execution_count": null,
   "metadata": {
    "collapsed": true
   },
   "outputs": [],
   "source": []
  },
  {
   "cell_type": "markdown",
   "metadata": {},
   "source": [
    "# Use scikit-learn to Experiment with IMDB data"
   ]
  },
  {
   "cell_type": "code",
   "execution_count": 13,
   "metadata": {
    "collapsed": false
   },
   "outputs": [],
   "source": [
    "# Get IMDB data\n",
    "import os\n",
    "def getIMDBData(dirPre, dataLabel):\n",
    "    res = {}\n",
    "    for dl in dataLabel:\n",
    "        dirPath = os.path.join(dirPre, dl)\n",
    "        fileNames = os.listdir(dirPath)\n",
    "\n",
    "        docs = []\n",
    "        for fN in fileNames:\n",
    "            doc = open(os.path.join(dirPath, fN), 'r').read()\n",
    "            docs.append(doc)\n",
    "            \n",
    "        res[dl] = docs\n",
    "        \n",
    "    return res\n",
    "    \n",
    "dataPathPre = os.path.join('dataset', 'hw1_dataset_nb')\n",
    "devType = ['train', 'test']\n",
    "dataLabel = ['pos', 'neg']\n",
    "\n",
    "IMDB_train = getIMDBData(os.path.join(dataPathPre, devType[0]), dataLabel)\n",
    "IMDB_test = getIMDBData(os.path.join(dataPathPre, devType[1]), dataLabel)\n",
    "IMDB_stop_words = open(os.path.join(dataPathPre, 'sw.txt'), 'r').read()\n",
    "stop_words = IMDB_stop_words.split()"
   ]
  },
  {
   "cell_type": "code",
   "execution_count": 14,
   "metadata": {
    "collapsed": false
   },
   "outputs": [
    {
     "data": {
      "text/plain": [
       "(25000, 74195)"
      ]
     },
     "execution_count": 14,
     "metadata": {},
     "output_type": "execute_result"
    }
   ],
   "source": [
    "# Extract 'counts' feature based on 'bag-of-word'\n",
    "from sklearn.feature_extraction.text import CountVectorizer\n",
    "count_vect = CountVectorizer(analyzer=\"word\", stop_words=stop_words)\n",
    "X_train_counts = count_vect.fit_transform(IMDB_train['pos'] + IMDB_train['neg'])\n",
    "X_train_counts.shape"
   ]
  },
  {
   "cell_type": "code",
   "execution_count": 15,
   "metadata": {
    "collapsed": false
   },
   "outputs": [
    {
     "data": {
      "text/plain": [
       "(25000, 74195)"
      ]
     },
     "execution_count": 15,
     "metadata": {},
     "output_type": "execute_result"
    }
   ],
   "source": [
    "# Get 'tf' feature from 'counts' feature\n",
    "from sklearn.feature_extraction.text import TfidfTransformer\n",
    "tf_transformer = TfidfTransformer(use_idf=False).fit(X_train_counts)\n",
    "X_train_tf = tf_transformer.transform(X_train_counts)\n",
    "X_train_tf.shape"
   ]
  },
  {
   "cell_type": "code",
   "execution_count": 16,
   "metadata": {
    "collapsed": false
   },
   "outputs": [
    {
     "data": {
      "text/plain": [
       "(25000, 74195)"
      ]
     },
     "execution_count": 16,
     "metadata": {},
     "output_type": "execute_result"
    }
   ],
   "source": [
    "# Get 'tf-idf' feature from 'counts' feature\n",
    "tfidf_transformer = TfidfTransformer()\n",
    "X_train_tfidf = tfidf_transformer.fit_transform(X_train_counts)\n",
    "X_train_tfidf.shape"
   ]
  },
  {
   "cell_type": "code",
   "execution_count": 17,
   "metadata": {
    "collapsed": true
   },
   "outputs": [],
   "source": [
    "# Train the MultinomialNB based on 'tf-idf' feature,\n",
    "# and their corresponding targets.\n",
    "from sklearn.naive_bayes import MultinomialNB\n",
    "clf = MultinomialNB().fit(X_train_tfidf, [1] * 12500 + [0] * 12500)"
   ]
  },
  {
   "cell_type": "code",
   "execution_count": 18,
   "metadata": {
    "collapsed": false
   },
   "outputs": [
    {
     "name": "stdout",
     "output_type": "stream",
     "text": [
      "\"Once again Mr  Costner has dragged out a movie for far longer than necessary  Aside from the terrific sea rescue sequences  of which there are very few I just did not care about any of the characters  Most of us have ghosts in the closet  and Costner's character are realized early on  and then forgotten until much later  by which time I did not care  The character we should really care about is a very cocky  overconfident Ashton Kutcher  The problem is he comes off as kid who thinks he's better than anyone else around him and shows no signs of a cluttered closet  His only obstacle appears to be winning over Costner  Finally when we are well past the half way point of this stinker  Costner tells us all about Kutcher's ghosts  We are told why Kutcher is driven to be the best with no prior inkling or foreshadowing  No magic here  it was all I could do to keep from turning it off an hour in \" => negative\n",
      "\n",
      "\n",
      "\"This is an example of why the majority of action films are the same  Generic and boring  there's really nothing worth watching here  A complete waste of the then barely-tapped talents of Ice-T and Ice Cube  who've each proven many times over that they are capable of acting  and acting well  Don't bother with this one  go see New Jack City  Ricochet or watch New York Undercover for Ice-T  or Boyz n the Hood  Higher Learning or Friday for Ice Cube and see the real deal  Ice-T's horribly cliched dialogue alone makes this film grate at the teeth  and I'm still wondering what the heck Bill Paxton was doing in this film  And why the heck does he always play the exact same character  From Aliens onward  every film I've seen with Bill Paxton has him playing the exact same irritating character  and at least in Aliens his character died  which made it somewhat gratifying    Overall  this is second-rate action trash  There are countless better films to see  and if you really want to see this one  watch Judgement Night  which is practically a carbon copy but has better acting and a better script  The only thing that made this at all worth watching was a decent hand on the camera - the cinematography was almost refreshing  which comes close to making up for the horrible film itself - but not quite  4 10 \" => negative\n",
      "\n",
      "\n",
      "\"First of all I hate those moronic rappers  who could'nt act if they had a gun pressed against their foreheads  All they do is curse and shoot each other and acting like clich  'e version of gangsters  The movie doesn't take more than five minutes to explain what is going on before we're already at the warehouse There is not a single sympathetic character in this movie  except for the homeless guy  who is also the only one with half a brain  Bill Paxton and William Sadler are both hill billies and Sadlers character is just as much a villain as the gangsters  I did'nt like him right from the start  The movie is filled with pointless violence and Walter Hills specialty  people falling through windows with glass flying everywhere  There is pretty much no plot and it is a big problem when you root for no-one  Everybody dies  except from Paxton and the homeless guy and everybody get what they deserve  The only two black people that can act is the homeless guy and the junkie but they're actors by profession  not annoying ugly brain dead rappers  Stay away from this crap and watch 48 hours 1 and 2 instead  At lest they have characters you care about  a sense of humor and nothing but real actors in the cast \" => negative\n",
      "\n",
      "\n",
      "\"Not even the Beatles could write songs everyone liked  and although Walter Hill is no mop-top he's second to none when it comes to thought provoking action movies  The nineties came and social platforms were changing in music and film  the emergence of the Rapper turned movie star was in full swing  the acting took a back seat to each man's overpowering regional accent and transparent acting  This was one of the many ice-t movies i saw as a kid and loved  only to watch them later and cringe  Bill Paxton and William Sadler are firemen with basic lives until a burning building tenant about to go up in flames hands over a map with gold implications  I hand it to Walter for quickly and neatly setting up the main characters and location  But i fault everyone involved for turning out Lame-o performances  Ice-t and cube must have been red hot at this time  and while I've enjoyed both their careers as rappers  in my opinion they fell flat in this movie  It's about ninety minutes of one guy ridiculously turning his back on the other guy to the point you find yourself locked in multiple states of disbelief  Now this is a movie  its not a documentary so i wont waste my time recounting all the stupid plot twists in this movie  but there were many  and they led nowhere  I got the feeling watching this that everyone on set was sord of confused and just playing things off the cuff  There are two things i still enjoy about it  one involves a scene with a needle and the other is Sadler's huge 45 pistol  Bottom line this movie is like domino's pizza  Yeah ill eat it if I'm hungry and i don't feel like cooking  But I'm well aware it tastes like crap  3 stars  meh \" => negative\n",
      "\n",
      "\n",
      "\"Brass pictures  movies is not a fitting word for them  really are somewhat brassy  Their alluring visual qualities are reminiscent of expensive high class TV commercials  But unfortunately Brass pictures are feature films with the pretense of wanting to entertain viewers for over two hours  In this they fail miserably  their undeniable  but rather soft and flabby than steamy  erotic qualities non withstanding  Senso '45 is a remake of a film by Luchino Visconti with the same title and Alida Valli and Farley Granger in the lead  The original tells a story of senseless love and lust in and around Venice during the Italian wars of independence  Brass moved the action from the 19th into the 20th century  1945 to be exact  so there are Mussolini murals  men in black shirts  German uniforms or the tattered garb of the partisans  But it is just window dressing  the historic context is completely negligible  Anna Galiena plays the attractive aristocratic woman who falls for the amoral SS guy who always puts on too much lipstick  She is an attractive  versatile  well trained Italian actress and clearly above the material  Her wide range of facial expressions  signalling boredom  loathing  delight  fear  hate     and ecstasy  are the best reason to watch this picture and worth two stars  She endures this basically trashy stuff with an astonishing amount of dignity  I wish some really good parts come along for her  She really deserves it \" => positive\n",
      "\n",
      "\n",
      "\"I went and saw this movie last night after being coaxed to by a few friends of mine  I'll admit that I was reluctant to see it because from what I knew of Ashton Kutcher he was only able to do comedy  I was wrong  Kutcher played the character of Jake Fischer very well  and Kevin Costner played Ben Randall with such professionalism  The sign of a good movie is that it can toy with our emotions  This one did exactly that  The entire theater  which was sold out  was overcome by laughter during the first half of the movie  and were moved to tears during the second half  While exiting the theater I not only saw many women in tears  but many full grown men as well  trying desperately not to let anyone see them crying  This movie was great  and I suggest that you go see it before you judge \" => positive\n",
      "\n",
      "\n",
      "\"Actor turned director Bill Paxton follows up his promising debut  the Gothic-horror  Frailty   with this family friendly sports drama about the 1913 U S  Open where a young American caddy rises from his humble background to play against his Bristish idol in what was dubbed as  The Greatest Game Ever Played   I'm no fan of golf  and these scrappy underdog sports flicks are a dime a dozen  most recently done to grand effect with  Miracle  and  Cinderella Man    but some how this film was enthralling all the same  The film starts with some creative opening credits  imagine a Disneyfied version of the animated opening credits of HBO's  Carnivale  and  Rome    but lumbers along slowly for its first by-the-numbers hour  Once the action moves to the U S  Open things pick up very well  Paxton does a nice job and shows a knack for effective directorial flourishes  I loved the rain-soaked montage of the action on day two of the open  that propel the plot further or add some unexpected psychological depth to the proceedings  There's some compelling character development when the British Harry Vardon is haunted by images of the aristocrats in black suits and top hats who destroyed his family cottage as a child to make way for a golf course  He also does a good job of visually depicting what goes on in the players' heads under pressure  Golf  a painfully boring sport  is brought vividly alive here  Credit should also be given the set designers and costume department for creating an engaging period-piece atmosphere of London and Boston at the beginning of the twentieth century  You know how this is going to end not only because it's based on a true story but also because films in this genre follow the same template over and over  but Paxton puts on a better than average show and perhaps indicates more talent behind the camera than he ever had in front of it  Despite the formulaic nature  this is a nice and easy film to root for that deserves to find an audience \" => positive\n",
      "\n",
      "\n",
      "\"As a recreational golfer with some knowledge of the sport's history  I was pleased with Disney's sensitivity to the issues of class in golf in the early twentieth century  The movie depicted well the psychological battles that Harry Vardon fought within himself  from his childhood trauma of being evicted to his own inability to break that glass ceiling that prevents him from being accepted as an equal in English golf society  Likewise  the young Ouimet goes through his own class struggles  being a mere caddie in the eyes of the upper crust Americans who scoff at his attempts to rise above his standing   What I loved best  however  is how this theme of class is manifested in the characters of Ouimet's parents  His father is a working-class drone who sees the value of hard work but is intimidated by the upper class  his mother  however  recognizes her son's talent and desire and encourages him to pursue his dream of competing against those who think he is inferior  Finally  the golf scenes are well photographed  Although the course used in the movie was not the actual site of the historical tournament  the little liberties taken by Disney do not detract from the beauty of the film  There's one little Disney moment at the pool table  otherwise  the viewer does not really think Disney  The ending  as in  Miracle   is not some Disney creation  but one that only human history could have written \" => positive\n",
      "\n",
      "\n",
      "\"I saw this film in a sneak preview  and it is delightful  The cinematography is unusually creative  the acting is good  and the story is fabulous  If this movie does not do well  it won't be because it doesn't deserve to  Before this film  I didn't realize how charming Shia Lebouf could be  He does a marvelous  self-contained  job as the lead  There's something incredibly sweet about him  and it makes the movie even better  The other actors do a good job as well  and the film contains moments of really high suspense  more than one might expect from a movie about golf  Sports movies are a dime a dozen  but this one stands out   This is one I'd recommend to anyone \" => positive\n",
      "\n",
      "\n",
      "'Bill Paxton has taken the true story of the 1913 US golf open and made a film that is about much more than an extra-ordinary game of golf  The film also deals directly with the class tensions of the early twentieth century and touches upon the profound anti-Catholic prejudices of both the British and American establishments  But at heart the film is about that perennial favourite of triumph against the odds  The acting is exemplary throughout  Stephen Dillane is excellent as usual  but the revelation of the movie is Shia LaBoeuf who delivers a disciplined  dignified and highly sympathetic performance as a working class Franco-Irish kid fighting his way through the prejudices of the New England WASP establishment  For those who are only familiar with his slap-stick performances in  Even Stevens  this demonstration of his maturity is a delightful surprise  And Josh Flitter as the ten year old caddy threatens to steal every scene in which he appears  A old fashioned movie in the best sense of the word  fine acting  clear directing and a great story that grips to the end - the final scene an affectionate nod to Casablanca is just one of the many pleasures that fill a great movie ' => positive\n",
      "\n",
      "\n"
     ]
    }
   ],
   "source": [
    "# Predict the feature\n",
    "docs_new = IMDB_test['neg'][0:5] + IMDB_test['pos'][0:5]\n",
    "X_new_counts = count_vect.transform(docs_new)\n",
    "X_new_tfidf = tfidf_transformer.transform(X_new_counts)\n",
    "\n",
    "predicted = clf.predict(X_new_tfidf)\n",
    "\n",
    "docs_target_names = ['negative', 'positive']\n",
    "for doc, category in zip(docs_new, predicted):\n",
    "    print('%r => %s' % (doc, docs_target_names[category]))\n",
    "    print '\\n'"
   ]
  },
  {
   "cell_type": "code",
   "execution_count": 19,
   "metadata": {
    "collapsed": true
   },
   "outputs": [],
   "source": [
    "# Build pipeline of above steps\n",
    "from sklearn.pipeline import Pipeline\n",
    "text_clf = Pipeline([('vect', CountVectorizer()),\n",
    "                     ('tfidf', TfidfTransformer()),\n",
    "                     ('clf', MultinomialNB()),\n",
    "])"
   ]
  },
  {
   "cell_type": "code",
   "execution_count": 20,
   "metadata": {
    "collapsed": true
   },
   "outputs": [],
   "source": [
    "# Train pipeline\n",
    "text_clf = text_clf.fit(IMDB_train['pos'] + IMDB_train['neg'], [1] * 12500 + [0] * 12500)"
   ]
  },
  {
   "cell_type": "code",
   "execution_count": 21,
   "metadata": {
    "collapsed": false
   },
   "outputs": [
    {
     "data": {
      "text/plain": [
       "0.83072000000000001"
      ]
     },
     "execution_count": 21,
     "metadata": {},
     "output_type": "execute_result"
    }
   ],
   "source": [
    "# Evaluate performance of test set\n",
    "import numpy as np\n",
    "predicted = text_clf.predict(IMDB_test['pos'] + IMDB_test['neg'])\n",
    "np.mean(predicted == [1] * 12500 + [0] * 12500)  "
   ]
  },
  {
   "cell_type": "code",
   "execution_count": null,
   "metadata": {
    "collapsed": true
   },
   "outputs": [],
   "source": []
  }
 ],
 "metadata": {
  "anaconda-cloud": {},
  "kernelspec": {
   "display_name": "Python [Root]",
   "language": "python",
   "name": "Python [Root]"
  },
  "language_info": {
   "codemirror_mode": {
    "name": "ipython",
    "version": 2
   },
   "file_extension": ".py",
   "mimetype": "text/x-python",
   "name": "python",
   "nbconvert_exporter": "python",
   "pygments_lexer": "ipython2",
   "version": "2.7.12"
  }
 },
 "nbformat": 4,
 "nbformat_minor": 0
}

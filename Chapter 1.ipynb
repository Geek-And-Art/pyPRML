{
 "cells": [
  {
   "cell_type": "markdown",
   "metadata": {},
   "source": [
    "# Chapter 1\n",
    "\n",
    "Generate the predicted sine function"
   ]
  },
  {
   "cell_type": "code",
   "execution_count": 71,
   "metadata": {
    "collapsed": false
   },
   "outputs": [
    {
     "data": {
      "image/png": "[encoded data removed]",
      "text/plain": [
       "<matplotlib.figure.Figure at 0x8479198>"
      ]
     },
     "metadata": {},
     "output_type": "display_data"
    }
   ],
   "source": [
    "import numpy as np\n",
    "import matplotlib.pyplot as plt\n",
    "\n",
    "# 'x' and 'omega' are the python list\n",
    "def linearFunction(_x, _omega):\n",
    "    x = np.array(_x)\n",
    "    omega = np.array(_omega)\n",
    "    return x.dot(omega)\n",
    "\n",
    "# ------------------------------------------------------------------\n",
    "# Sample parameters setting\n",
    "fs = 100 # sample rate \n",
    "xLeft = 0.0\n",
    "xRight = 1.0\n",
    "\n",
    "# Random parameters setting\n",
    "mu, sigma = 0, 0.1 # mean and standard deviation\n",
    "s = np.random.normal(mu, sigma, fs)\n",
    "\n",
    "# Intrinsic curve\n",
    "x = np.arange(xLeft, xRight, (xRight - xLeft)/fs)\n",
    "y = np.sin(2 * np.pi * x)\n",
    "\n",
    "# Using Gaussian distribution to get observed data\n",
    "t = y + s #[ (np.sin(2 * np.pi / fs * f * i) + s) for i in np.arange(fs)]\n",
    "rIndex = np.random.choice(range(0, fs), size=10, replace = False)\n",
    "xDots = [x[i] for i in rIndex]\n",
    "tDots = [t[i] for i in rIndex]\n",
    "\n",
    "\n",
    "% matplotlib inline\n",
    "f, ax = plt.subplots()\n",
    "\n",
    "# Plot intrinsic curve\n",
    "ax.plot(x, y, 'g')\n",
    "\n",
    "# Plot the observed data\n",
    "ax.scatter(xDots, tDots, s = 80, facecolors = 'none', edgecolors = 'b')\n",
    "\n",
    "# Setting the plot range box\n",
    "plt.axis([-0.01, 1.01, -1.1, 1.1])\n",
    "ax.set_xlabel('Figure 1.2')\n",
    "plt.show()\n"
   ]
  },
  {
   "cell_type": "code",
   "execution_count": null,
   "metadata": {
    "collapsed": true
   },
   "outputs": [],
   "source": []
  }
 ],
 "metadata": {
  "kernelspec": {
   "display_name": "Python 2",
   "language": "python",
   "name": "python2"
  },
  "language_info": {
   "codemirror_mode": {
    "name": "ipython",
    "version": 2
   },
   "file_extension": ".py",
   "mimetype": "text/x-python",
   "name": "python",
   "nbconvert_exporter": "python",
   "pygments_lexer": "ipython2",
   "version": "2.7.11"
  }
 },
 "nbformat": 4,
 "nbformat_minor": 0
}

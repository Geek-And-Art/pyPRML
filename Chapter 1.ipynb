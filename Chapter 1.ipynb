{
 "cells": [
  {
   "cell_type": "markdown",
   "metadata": {},
   "source": [
    "# Chapter 1\n",
    "\n",
    "- Generate the observed data and intrinsic function"
   ]
  },
  {
   "cell_type": "code",
   "execution_count": 138,
   "metadata": {
    "collapsed": false
   },
   "outputs": [
    {
     "data": {
      "image/png": "[encoded data removed]",
      "text/plain": [
       "<matplotlib.figure.Figure at 0x2b6fb0f0>"
      ]
     },
     "metadata": {},
     "output_type": "display_data"
    }
   ],
   "source": [
    "import numpy as np\n",
    "import matplotlib.pyplot as plt\n",
    "\n",
    "def twoLists2Pair(xL, yL):\n",
    "    n = len(xL)\n",
    "    m = len(yL)\n",
    "    assert(n == m)\n",
    "    return [(xL[i], yL[i]) for i in range(0, n)]\n",
    "\n",
    "# ------------------------------------------------------------------\n",
    "# Sample parameters setting\n",
    "fs = 100 # sample rate \n",
    "xLeft = 0.0\n",
    "xRight = 1.0\n",
    "\n",
    "# Random parameters setting\n",
    "mu, sigma = 0, 0.1 # mean and standard deviation\n",
    "s = np.random.normal(mu, sigma, fs)\n",
    "\n",
    "# Intrinsic curve\n",
    "x = np.arange(xLeft, xRight, (xRight - xLeft)/fs)\n",
    "y = np.sin(2 * np.pi * x)\n",
    "\n",
    "# Use Gaussian noise to generate observed data\n",
    "t = y + s\n",
    "rIndex = np.random.choice(range(0, fs), size=10, replace = False)\n",
    "xDots = [x[i] for i in rIndex]\n",
    "tDots = [t[i] for i in rIndex]\n",
    "observedData = twoLists2Pair(xDots, tDots)\n",
    "\n",
    "% matplotlib inline\n",
    "f, ax = plt.subplots()\n",
    "\n",
    "# Plot intrinsic curve\n",
    "ax.plot(x, y, 'g')\n",
    "\n",
    "# Plot the observed data\n",
    "ax.scatter(xDots, tDots, s = 80, facecolors = 'none', edgecolors = 'b')\n",
    "\n",
    "# Setting the plot range box\n",
    "plt.axis([-0.01, 1.01, -1.1, 1.1])\n",
    "ax.set_xlabel('Figure 1.2')\n",
    "plt.show()\n"
   ]
  },
  {
   "cell_type": "markdown",
   "metadata": {
    "collapsed": true
   },
   "source": [
    "- Polynomial Curve Fitting, define the linear function and error function"
   ]
  },
  {
   "cell_type": "code",
   "execution_count": 139,
   "metadata": {
    "collapsed": false
   },
   "outputs": [],
   "source": [
    "# 'x' is univariable, and 'omega' is python list\n",
    "def linearFunction(_x, _omega):\n",
    "    M = len(_omega)\n",
    "    x = np.array([_x**i for i in range(0, M)])\n",
    "    omega = np.array(_omega)\n",
    "    return x.dot(omega)\n",
    "\n",
    "# Error function\n",
    "def E_Function(_omega, _targetData):\n",
    "    return 0.5 * sum(\n",
    "        np.square(linearFunction(xE, _omega) - tE) \n",
    "            for (xE, tE) in _targetData)"
   ]
  },
  {
   "cell_type": "markdown",
   "metadata": {},
   "source": [
    "- Prepare data for Figure 1.3"
   ]
  },
  {
   "cell_type": "code",
   "execution_count": 154,
   "metadata": {
    "collapsed": false
   },
   "outputs": [],
   "source": [
    "omega = [-0.125, 0.75, -1.5, 1]\n",
    "x_model = x #np.arange(-1, 1, 0.01)\n",
    "y_model = [linearFunction(_x, omega) for _x in x_model]\n",
    "\n",
    "rIndex = np.random.choice(range(0, fs), size=3, replace = False)\n",
    "x_model_sample = [x_model[i] for i in rIndex]\n",
    "y_model_sample = [linearFunction(xData, omega) for xData in x_model_sample]\n",
    "model_points = twoLists2Pair(x_model_sample, y_model_sample)\n",
    "\n",
    "x_target = [x[i] for i in rIndex]\n",
    "y_target = [t[i] for i in rIndex]\n",
    "target_points = twoLists2Pair(x_target, y_target)"
   ]
  },
  {
   "cell_type": "code",
   "execution_count": 155,
   "metadata": {
    "collapsed": false
   },
   "outputs": [
    {
     "data": {
      "image/png": "[encoded data removed]",
      "text/plain": [
       "<matplotlib.figure.Figure at 0xc379a90>"
      ]
     },
     "metadata": {},
     "output_type": "display_data"
    }
   ],
   "source": [
    "from matplotlib import collections  as mc\n",
    "\n",
    "lines = []\n",
    "for i in range(0, len(target_points)):\n",
    "    lines = lines + [[target_points[i], model_points[i]]]\n",
    "\n",
    "lc = mc.LineCollection(lines, linewidths = 2, color = 'g')\n",
    "\n",
    "f, ax = plt.subplots()\n",
    "ax.plot(x_model, y_model, 'r')\n",
    "ax.add_collection(lc)\n",
    "ax.scatter(x_target, y_target, s = 80, facecolors = 'none', edgecolors = 'b')\n",
    "plt.axis([-0.01, 1.01, -1.1, 1.1])\n",
    "ax.set_xlabel('Figure 1.3')\n",
    "plt.show()"
   ]
  },
  {
   "cell_type": "code",
   "execution_count": null,
   "metadata": {
    "collapsed": true
   },
   "outputs": [],
   "source": []
  }
 ],
 "metadata": {
  "kernelspec": {
   "display_name": "Python 2",
   "language": "python",
   "name": "python2"
  },
  "language_info": {
   "codemirror_mode": {
    "name": "ipython",
    "version": 2
   },
   "file_extension": ".py",
   "mimetype": "text/x-python",
   "name": "python",
   "nbconvert_exporter": "python",
   "pygments_lexer": "ipython2",
   "version": "2.7.11"
  }
 },
 "nbformat": 4,
 "nbformat_minor": 0
}

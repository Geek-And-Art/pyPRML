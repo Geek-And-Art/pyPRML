{
 "cells": [
  {
   "cell_type": "markdown",
   "metadata": {},
   "source": [
    "# Dev Process"
   ]
  },
  {
   "cell_type": "code",
   "execution_count": 1,
   "metadata": {
    "collapsed": true
   },
   "outputs": [],
   "source": [
    "import random\n",
    "import numpy as np\n",
    "import matplotlib.pyplot as plt\n",
    "\n",
    "%matplotlib inline\n",
    "plt.rcParams['figure.figsize'] = (10.0, 8.0) # set default size of plots\n",
    "plt.rcParams['image.interpolation'] = 'nearest'\n",
    "plt.rcParams['image.cmap'] = 'gray'\n",
    "\n",
    "# for auto-reloading extenrnal modules\n",
    "# see http://stackoverflow.com/questions/1907993/autoreload-of-modules-in-ipython\n",
    "%load_ext autoreload\n",
    "%autoreload 2"
   ]
  },
  {
   "cell_type": "code",
   "execution_count": 2,
   "metadata": {
    "collapsed": false
   },
   "outputs": [
    {
     "name": "stdout",
     "output_type": "stream",
     "text": [
      "X has been generated.\n",
      "W has been generated.\n",
      "Y has been generated.\n",
      "\n",
      "X is: \n",
      "[[ 0.55382965 -1.2877871  -0.0075365 ]\n",
      " [-0.77906214 -0.26125276 -0.5050602 ]\n",
      " [ 1.71078996  1.3411595   0.591867  ]]\n",
      "\n",
      "Y is: \n",
      "[[ 1.]\n",
      " [-1.]\n",
      " [-1.]]\n"
     ]
    }
   ],
   "source": [
    "num_dev = 3\n",
    "dim_dev = 3\n",
    "err_stand_dev = 0.02\n",
    "\n",
    "import gen_synthetic as gs\n",
    "X_dev, Y_dev = gs.gen_linear_synthetic(num_dev, dim_dev, err_stand_dev)\n",
    "print '\\nX is: \\n', X_dev\n",
    "print '\\nY is: \\n', Y_dev"
   ]
  },
  {
   "cell_type": "markdown",
   "metadata": {},
   "source": [
    "### Partition Dataset \n",
    "\n",
    "Use the `gen_linear_synthetic` method to all the observing data first. And then, partition them into three categories as: **training, validation** and **test**."
   ]
  },
  {
   "cell_type": "code",
   "execution_count": 3,
   "metadata": {
    "collapsed": false
   },
   "outputs": [
    {
     "name": "stdout",
     "output_type": "stream",
     "text": [
      "X has been generated.\n",
      "W has been generated.\n",
      "Y has been generated.\n",
      "X_train shape:  (700L, 10L)\n",
      "Y_train shape:  (700L, 1L)\n",
      "X_val shape:  (150L, 10L)\n",
      "Y_val shape:  (150L, 1L)\n",
      "X_test shape:  (150L, 10L)\n",
      "Y_test shape:  (150L, 1L)\n"
     ]
    }
   ],
   "source": [
    "# Generate the whole observed data\n",
    "num_data = 1000\n",
    "dim_data = 10\n",
    "err_stand = 0.001\n",
    "\n",
    "num_train = int(num_data * 0.7)\n",
    "num_val = int(num_data * 0.15)\n",
    "\n",
    "X, Y = gs.gen_linear_synthetic(num_data, dim_data, err_stand)\n",
    "\n",
    "# Partition data into 'train, validation, test' parts.\n",
    "# Here we use 'np.random.permutation' to track shuffled \n",
    "# indices. Because the random impact will act on both X\n",
    "# and Y, instead of using 'np.random.shuffle(x)' directly.\n",
    "shuffledIndx = np.random.permutation(num_data)\n",
    "X_train = X[shuffledIndx[: num_train]]\n",
    "Y_train = Y[shuffledIndx[: num_train]]\n",
    "X_val = X[shuffledIndx[num_train : num_train + num_val]]\n",
    "Y_val = Y[shuffledIndx[num_train : num_train + num_val]]\n",
    "X_test = X[shuffledIndx[num_train + num_val :]]\n",
    "Y_test = Y[shuffledIndx[num_train + num_val :]]\n",
    "\n",
    "print 'X_train shape: ', X_train.shape\n",
    "print 'Y_train shape: ', Y_train.shape\n",
    "print 'X_val shape: ', X_val.shape\n",
    "print 'Y_val shape: ', Y_val.shape\n",
    "print 'X_test shape: ', X_test.shape\n",
    "print 'Y_test shape: ', Y_test.shape"
   ]
  },
  {
   "cell_type": "code",
   "execution_count": 4,
   "metadata": {
    "collapsed": false
   },
   "outputs": [
    {
     "name": "stdout",
     "output_type": "stream",
     "text": [
      "val_acc =  0.514222222222\n",
      "val_acc =  0.499288888889\n"
     ]
    }
   ],
   "source": [
    "# [Terence]\n",
    "# You can't directly import things from a folder,\n",
    "# unless you use '__init__.py' to tell Python \n",
    "# interpreter that this folder should be treated\n",
    "# like a Python package.\n",
    "from classifiers import KNearestNeighbor\n",
    "\n",
    "knn = KNearestNeighbor()\n",
    "knn.train(X_train, Y_train)\n",
    "\n",
    "Y_pred = knn.predict(X_val, k=3)\n",
    "val_acc = np.mean(Y_pred == Y_val)\n",
    "print 'val_acc = ', val_acc\n",
    "\n",
    "Y_pred = knn.predict(X_test, k=3)\n",
    "val_acc = np.mean(Y_pred == Y_test)\n",
    "print 'val_acc = ', val_acc"
   ]
  },
  {
   "cell_type": "code",
   "execution_count": null,
   "metadata": {
    "collapsed": true
   },
   "outputs": [],
   "source": []
  }
 ],
 "metadata": {
  "anaconda-cloud": {},
  "kernelspec": {
   "display_name": "Python [Root]",
   "language": "python",
   "name": "Python [Root]"
  },
  "language_info": {
   "codemirror_mode": {
    "name": "ipython",
    "version": 2
   },
   "file_extension": ".py",
   "mimetype": "text/x-python",
   "name": "python",
   "nbconvert_exporter": "python",
   "pygments_lexer": "ipython2",
   "version": "2.7.12"
  }
 },
 "nbformat": 4,
 "nbformat_minor": 0
}

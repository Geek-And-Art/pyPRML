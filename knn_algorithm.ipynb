{
 "cells": [
  {
   "cell_type": "markdown",
   "metadata": {},
   "source": [
    "# Dev Process"
   ]
  },
  {
   "cell_type": "code",
   "execution_count": 1,
   "metadata": {
    "collapsed": false
   },
   "outputs": [],
   "source": [
    "import random\n",
    "import numpy as np\n",
    "import matplotlib.pyplot as plt\n",
    "\n",
    "%matplotlib inline\n",
    "plt.rcParams['figure.figsize'] = (10.0, 8.0) # set default size of plots\n",
    "plt.rcParams['image.interpolation'] = 'nearest'\n",
    "plt.rcParams['image.cmap'] = 'gray'\n",
    "\n",
    "# for auto-reloading extenrnal modules\n",
    "# see http://stackoverflow.com/questions/1907993/autoreload-of-modules-in-ipython\n",
    "%load_ext autoreload\n",
    "%autoreload 2"
   ]
  },
  {
   "cell_type": "code",
   "execution_count": 2,
   "metadata": {
    "collapsed": false
   },
   "outputs": [
    {
     "name": "stdout",
     "output_type": "stream",
     "text": [
      "X has been generated.\n",
      "W has been generated.\n",
      "Y has been generated.\n",
      "\n",
      "X is: \n",
      "[[ 0.87905051  1.94999385 -1.14081585]\n",
      " [-0.01677889 -0.04724947  2.4991287 ]\n",
      " [ 1.93195057 -0.4271941  -1.15197552]]\n",
      "\n",
      "Y is: \n",
      "[[ 1.]\n",
      " [-1.]\n",
      " [ 1.]]\n"
     ]
    }
   ],
   "source": [
    "num_dev = 3\n",
    "dim_dev = 3\n",
    "err_stand_dev = 0.02\n",
    "\n",
    "import gen_synthetic as gs\n",
    "X_dev, Y_dev = gs.gen_linear_synthetic(num_dev, dim_dev, err_stand_dev)\n",
    "print '\\nX is: \\n', X_dev\n",
    "print '\\nY is: \\n', Y_dev"
   ]
  },
  {
   "cell_type": "markdown",
   "metadata": {},
   "source": [
    "### Partition Dataset \n",
    "\n",
    "Use the `gen_linear_synthetic` method to all the observing data first. And then, partition them into three categories as: **training, validation** and **test**."
   ]
  },
  {
   "cell_type": "code",
   "execution_count": 3,
   "metadata": {
    "collapsed": false
   },
   "outputs": [
    {
     "name": "stdout",
     "output_type": "stream",
     "text": [
      "X has been generated.\n",
      "W has been generated.\n",
      "Y has been generated.\n",
      "X_train shape:  (700L, 10L)\n",
      "Y_train shape:  (700L, 1L)\n",
      "X_val shape:  (150L, 10L)\n",
      "Y_val shape:  (150L, 1L)\n",
      "X_test shape:  (150L, 10L)\n",
      "Y_test shape:  (150L, 1L)\n"
     ]
    }
   ],
   "source": [
    "# Generate the whole observed data\n",
    "num_data = 1000\n",
    "dim_data = 10\n",
    "err_stand = 0.001\n",
    "\n",
    "num_train = int(num_data * 0.7)\n",
    "num_val = int(num_data * 0.15)\n",
    "\n",
    "X, Y = gs.gen_linear_synthetic(num_data, dim_data, err_stand)\n",
    "\n",
    "# Partition data into 'train, validation, test' parts.\n",
    "# Here we use 'np.random.permutation' to track shuffled \n",
    "# indices. Because the random impact will act on both X\n",
    "# and Y, instead of using 'np.random.shuffle(x)' directly.\n",
    "shuffledIndx = np.random.permutation(num_data)\n",
    "X_train = X[shuffledIndx[: num_train]]\n",
    "Y_train = Y[shuffledIndx[: num_train]]\n",
    "X_val = X[shuffledIndx[num_train : num_train + num_val]]\n",
    "Y_val = Y[shuffledIndx[num_train : num_train + num_val]]\n",
    "X_test = X[shuffledIndx[num_train + num_val :]]\n",
    "Y_test = Y[shuffledIndx[num_train + num_val :]]\n",
    "\n",
    "print 'X_train shape: ', X_train.shape\n",
    "print 'Y_train shape: ', Y_train.shape\n",
    "print 'X_val shape: ', X_val.shape\n",
    "print 'Y_val shape: ', Y_val.shape\n",
    "print 'X_test shape: ', X_test.shape\n",
    "print 'Y_test shape: ', Y_test.shape"
   ]
  },
  {
   "cell_type": "code",
   "execution_count": 4,
   "metadata": {
    "collapsed": false
   },
   "outputs": [
    {
     "name": "stdout",
     "output_type": "stream",
     "text": [
      "val_acc =  0.500533333333\n",
      "val_acc =  0.507822222222\n"
     ]
    }
   ],
   "source": [
    "# [Terence]\n",
    "# You can't directly import things from a folder,\n",
    "# unless you use '__init__.py' to tell Python \n",
    "# interpreter that this folder should be treated\n",
    "# like a Python package.\n",
    "from classifiers import KNearestNeighbor\n",
    "\n",
    "knn = KNearestNeighbor()\n",
    "knn.train(X_train, Y_train)\n",
    "\n",
    "Y_pred = knn.predict(X_val, k=3)\n",
    "val_acc = np.mean(Y_pred == Y_val)\n",
    "print 'val_acc = ', val_acc\n",
    "\n",
    "Y_pred = knn.predict(X_test, k=3)\n",
    "val_acc = np.mean(Y_pred == Y_test)\n",
    "print 'val_acc = ', val_acc"
   ]
  },
  {
   "cell_type": "markdown",
   "metadata": {},
   "source": [
    "# Problems in Assignment\n",
    "\n",
    "### Question 1 & 2\n",
    "Why is it suitable to choose odd-$k$?\n",
    "\n",
    "Generate $n=1000$ points with $p=10$ and $sigma=0.001$. For different values of $k$, ranging from 1 to 50 (in increments of 5), plot the cross-validation train-error and test-error. What can you say about the effect of $k$? What is the optimal value of $k$, which you can infer from the plot? How does performance changes when you move from smaller values of $k$ to larger values?"
   ]
  },
  {
   "cell_type": "markdown",
   "metadata": {},
   "source": [
    "### [Terence Comments]\n",
    "Generally, we do **NOT** need to use the *cross-validation* as long as the validation dataset is large enough.\n",
    "\n",
    "But when the validation dataset is *not large enough* to **express all the characteristics of the dataset**, we need to use the cross-validation to go through the whole training dataset to explore all the characteristics of our dataset.\n",
    "\n",
    "Specifically, assume we want to determine $K$ different values for one hyperparameter, and use $N$ folder cross-validation. For each hyperparameter, we need to run $N$ times cross validation. In total, we'll run $K \\times N$ times iterations."
   ]
  },
  {
   "cell_type": "code",
   "execution_count": 5,
   "metadata": {
    "collapsed": false
   },
   "outputs": [
    {
     "name": "stdout",
     "output_type": "stream",
     "text": [
      "k = 1, accuracy = 0.520000\n",
      "k = 1, accuracy = 0.518750\n",
      "k = 1, accuracy = 0.501875\n",
      "k = 1, accuracy = 0.500000\n",
      "k = 1, accuracy = 0.502812\n",
      "k = 1, accuracy = 0.490625\n",
      "k = 1, accuracy = 0.499688\n",
      "k = 1, accuracy = 0.510938\n",
      "k = 1, accuracy = 0.510938\n",
      "k = 1, accuracy = 0.504687\n",
      "k = 6, accuracy = 0.505000\n",
      "k = 6, accuracy = 0.509375\n",
      "k = 6, accuracy = 0.500313\n",
      "k = 6, accuracy = 0.500000\n",
      "k = 6, accuracy = 0.500000\n",
      "k = 6, accuracy = 0.496250\n",
      "k = 6, accuracy = 0.499063\n",
      "k = 6, accuracy = 0.519687\n",
      "k = 6, accuracy = 0.500000\n",
      "k = 6, accuracy = 0.504687\n",
      "k = 11, accuracy = 0.525000\n",
      "k = 11, accuracy = 0.525000\n",
      "k = 11, accuracy = 0.501563\n",
      "k = 11, accuracy = 0.500000\n",
      "k = 11, accuracy = 0.507500\n",
      "k = 11, accuracy = 0.492500\n",
      "k = 11, accuracy = 0.501563\n",
      "k = 11, accuracy = 0.504375\n",
      "k = 11, accuracy = 0.506250\n",
      "k = 11, accuracy = 0.511250\n",
      "k = 16, accuracy = 0.522500\n",
      "k = 16, accuracy = 0.521875\n",
      "k = 16, accuracy = 0.501875\n",
      "k = 16, accuracy = 0.500000\n",
      "k = 16, accuracy = 0.507500\n",
      "k = 16, accuracy = 0.497188\n",
      "k = 16, accuracy = 0.500625\n",
      "k = 16, accuracy = 0.508750\n",
      "k = 16, accuracy = 0.503125\n",
      "k = 16, accuracy = 0.508437\n",
      "k = 21, accuracy = 0.527500\n",
      "k = 21, accuracy = 0.528125\n",
      "k = 21, accuracy = 0.502500\n",
      "k = 21, accuracy = 0.500000\n",
      "k = 21, accuracy = 0.510312\n",
      "k = 21, accuracy = 0.494375\n",
      "k = 21, accuracy = 0.500625\n",
      "k = 21, accuracy = 0.502188\n",
      "k = 21, accuracy = 0.512500\n",
      "k = 21, accuracy = 0.511250\n",
      "k = 26, accuracy = 0.520000\n",
      "k = 26, accuracy = 0.521875\n",
      "k = 26, accuracy = 0.502500\n",
      "k = 26, accuracy = 0.500000\n",
      "k = 26, accuracy = 0.508437\n",
      "k = 26, accuracy = 0.495312\n",
      "k = 26, accuracy = 0.501250\n",
      "k = 26, accuracy = 0.506563\n",
      "k = 26, accuracy = 0.507812\n",
      "k = 26, accuracy = 0.509375\n",
      "k = 31, accuracy = 0.527500\n",
      "k = 31, accuracy = 0.531250\n",
      "k = 31, accuracy = 0.503125\n",
      "k = 31, accuracy = 0.500000\n",
      "k = 31, accuracy = 0.509375\n",
      "k = 31, accuracy = 0.492500\n",
      "k = 31, accuracy = 0.502500\n",
      "k = 31, accuracy = 0.495625\n",
      "k = 31, accuracy = 0.509375\n",
      "k = 31, accuracy = 0.511250\n",
      "k = 36, accuracy = 0.525000\n",
      "k = 36, accuracy = 0.525000\n",
      "k = 36, accuracy = 0.502188\n",
      "k = 36, accuracy = 0.500000\n",
      "k = 36, accuracy = 0.507500\n",
      "k = 36, accuracy = 0.495312\n",
      "k = 36, accuracy = 0.501875\n",
      "k = 36, accuracy = 0.495625\n",
      "k = 36, accuracy = 0.509375\n",
      "k = 36, accuracy = 0.510312\n",
      "k = 41, accuracy = 0.525000\n",
      "k = 41, accuracy = 0.531250\n",
      "k = 41, accuracy = 0.502500\n",
      "k = 41, accuracy = 0.500000\n",
      "k = 41, accuracy = 0.507500\n",
      "k = 41, accuracy = 0.492500\n",
      "k = 41, accuracy = 0.501563\n",
      "k = 41, accuracy = 0.495625\n",
      "k = 41, accuracy = 0.512500\n",
      "k = 41, accuracy = 0.511250\n",
      "k = 46, accuracy = 0.527500\n",
      "k = 46, accuracy = 0.531250\n",
      "k = 46, accuracy = 0.502812\n",
      "k = 46, accuracy = 0.500000\n",
      "k = 46, accuracy = 0.505625\n",
      "k = 46, accuracy = 0.497188\n",
      "k = 46, accuracy = 0.500938\n",
      "k = 46, accuracy = 0.495625\n",
      "k = 46, accuracy = 0.510938\n",
      "k = 46, accuracy = 0.511250\n"
     ]
    }
   ],
   "source": [
    "# Generate training, testing dataset.\n",
    "num_train = int(0.8 * num_data)\n",
    "shuffledIndx = np.random.permutation(num_data)\n",
    "\n",
    "X_train = X[shuffledIndx[: num_train]]\n",
    "Y_train = Y[shuffledIndx[: num_train]]\n",
    "X_test = X[shuffledIndx[num_train :]]\n",
    "Y_test = Y[shuffledIndx[num_train :]]\n",
    "\n",
    "# Prepare values of hyperparameter.\n",
    "k_hypers = range(1, 50, 5)\n",
    "num_folds = 10\n",
    "\n",
    "# Prepare training folder dataset.\n",
    "X_train_folds = np.array_split(X_train, num_folds)\n",
    "Y_train_folds = np.array_split(Y_train, num_folds)\n",
    "\n",
    "k_to_accuracies = {}\n",
    "\n",
    "for k_val in k_hypers:\n",
    "    accuracies = []\n",
    "    \n",
    "    for i in xrange(num_folds):\n",
    "        trainIndx = [x for x in xrange(num_folds) if x != i]\n",
    "        X_train_fold = np.concatenate([X_train_folds[j] for j in trainIndx])\n",
    "        Y_train_fold = np.concatenate([Y_train_folds[j] for j in trainIndx])\n",
    "        \n",
    "        X_val_fold = X_train_folds[i]\n",
    "        Y_val_fold = Y_train_folds[i]\n",
    "        \n",
    "        knn = KNearestNeighbor()\n",
    "        knn.train(X_train_fold, Y_train_fold)\n",
    "        Y_pre_fold = knn.predict(X_val_fold, k=k_val)\n",
    "        \n",
    "        accuracies.append(np.mean(Y_pre_fold == Y_val_fold))\n",
    "        \n",
    "    k_to_accuracies[k_val] = accuracies    \n",
    "\n",
    "# Output the results\n",
    "for k in sorted(k_to_accuracies):\n",
    "    for accuracy in k_to_accuracies[k]:\n",
    "        print 'k = %d, accuracy = %f' % (k, accuracy)"
   ]
  },
  {
   "cell_type": "code",
   "execution_count": 6,
   "metadata": {
    "collapsed": false
   },
   "outputs": [
    {
     "data": {
      "image/png": "[encoded data removed]",
      "text/plain": [
       "<matplotlib.figure.Figure at 0x6863668>"
      ]
     },
     "metadata": {},
     "output_type": "display_data"
    }
   ],
   "source": [
    "# plot the raw observations\n",
    "for k in k_hypers:\n",
    "    accuracies = k_to_accuracies[k]\n",
    "    # [Terence]\n",
    "    #     - Here the '[k] * len(accuracies)' will generate the 'x' list.\n",
    "    #     - Then, 'accuracies' is the 'y' list. \n",
    "    # Above two lists must have the same size.\n",
    "    #\n",
    "    # So, the below code will generate all points of accuracies under\n",
    "    # the same value 'k'.\n",
    "    plt.scatter([k] * len(accuracies), accuracies)\n",
    "\n",
    "# plot the trend line with error bars that correspond to standard deviation\n",
    "accuracies_mean = np.array([np.mean(v) for k,v in sorted(k_to_accuracies.items())])\n",
    "accuracies_std = np.array([np.std(v) for k,v in sorted(k_to_accuracies.items())])\n",
    "\n",
    "plt.errorbar(k_hypers, accuracies_mean, yerr=accuracies_std)\n",
    "plt.title('Cross-validation on k')\n",
    "plt.xlabel('k')\n",
    "plt.ylabel('Cross-validation accuracy')\n",
    "\n",
    "plt.show()"
   ]
  },
  {
   "cell_type": "code",
   "execution_count": 7,
   "metadata": {
    "collapsed": false
   },
   "outputs": [
    {
     "data": {
      "text/plain": [
       "[5, 5, 5, 5]"
      ]
     },
     "execution_count": 7,
     "metadata": {},
     "output_type": "execute_result"
    }
   ],
   "source": [
    "[5] * 4"
   ]
  },
  {
   "cell_type": "markdown",
   "metadata": {},
   "source": [
    "### Question 3\n",
    "Generate $n=400$ points with $sigma=0.001$. Vary $p$ in range of $2$ to $50$. Run $k$-NN with $k=9$. Plot the cross-validation test-error and comment about effect of dimensionality on the algorithm."
   ]
  },
  {
   "cell_type": "code",
   "execution_count": null,
   "metadata": {
    "collapsed": true
   },
   "outputs": [],
   "source": []
  },
  {
   "cell_type": "markdown",
   "metadata": {},
   "source": [
    "### Question 4\n",
    "Generate $n=1000$ points with $sigma=0.001$ and $p=10$. Run $k$-NN with $k=9$. Vary the $N$ for $N$-fold validation from $2$ to $10$ and plot the cross-validation test error. What do you observe from the plot?"
   ]
  },
  {
   "cell_type": "code",
   "execution_count": null,
   "metadata": {
    "collapsed": true
   },
   "outputs": [],
   "source": []
  },
  {
   "cell_type": "markdown",
   "metadata": {},
   "source": [
    "### Question 5\n",
    "On the given **iris** dataset, plot with varying $K=1,3,5,7$, the $N$-fold cross-validation test-error."
   ]
  },
  {
   "cell_type": "code",
   "execution_count": null,
   "metadata": {
    "collapsed": true
   },
   "outputs": [],
   "source": []
  }
 ],
 "metadata": {
  "anaconda-cloud": {},
  "kernelspec": {
   "display_name": "Python [Root]",
   "language": "python",
   "name": "Python [Root]"
  },
  "language_info": {
   "codemirror_mode": {
    "name": "ipython",
    "version": 2
   },
   "file_extension": ".py",
   "mimetype": "text/x-python",
   "name": "python",
   "nbconvert_exporter": "python",
   "pygments_lexer": "ipython2",
   "version": "2.7.12"
  }
 },
 "nbformat": 4,
 "nbformat_minor": 0
}
